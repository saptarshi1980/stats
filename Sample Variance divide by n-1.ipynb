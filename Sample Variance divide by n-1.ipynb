{
 "cells": [
  {
   "cell_type": "markdown",
   "id": "b5ad949d",
   "metadata": {},
   "source": [
    "## Since population mean(parameter) is almost always unknown to us, we do sampling to find out sample mean(statistic) to estimate our population paramter."
   ]
  },
  {
   "cell_type": "markdown",
   "id": "45fbd12f",
   "metadata": {},
   "source": [
    "## It is always told to us to divide by n-1 instead of n to find sample variance, this is to avoid biased estimate for population variance from sample. This is called Bessel's Correction."
   ]
  },
  {
   "cell_type": "markdown",
   "id": "21762095",
   "metadata": {},
   "source": [
    "## Hence, I have developed a small program which demonstrates if we divide by n-1 instead of n, then 13 out of 20 times it gives more accurate measure of variance estimates from the samples"
   ]
  },
  {
   "cell_type": "markdown",
   "id": "849304ea",
   "metadata": {},
   "source": [
    "### The reason behind dividing by n-1 \n",
    "\n",
    "### When we take two items (with replacement) from a population of size n, there is  1/n robability that the same item is sampled twice. This means, regardless of the population’s distribution, there is a 1/n chance of observing 0 sampled squared difference.\n",
    "\n",
    "### Intuitively, this 1/n chance of observing 0 for the sample variance would mean that we need to correct the formula by dividing by (1–1/n), or equivalently, multiplying by n/(n-1). Now when we multiply our naive formula by this value we see the infamous n-1 expression on the bottom"
   ]
  },
  {
   "cell_type": "code",
   "execution_count": 1,
   "id": "093e2d88",
   "metadata": {},
   "outputs": [],
   "source": [
    "import numpy as np"
   ]
  },
  {
   "cell_type": "code",
   "execution_count": 65,
   "id": "ea849b17",
   "metadata": {},
   "outputs": [],
   "source": [
    "np.random.seed(42)\n",
    "population = np.random.randint(200, size=300)"
   ]
  },
  {
   "cell_type": "code",
   "execution_count": 75,
   "id": "5d3306ae",
   "metadata": {},
   "outputs": [
    {
     "name": "stdout",
     "output_type": "stream",
     "text": [
      "3309.6045666666664 102.89\n"
     ]
    }
   ],
   "source": [
    "population_mean = np.mean(population)\n",
    "population_variance = np.var(population)\n",
    "print(population_variance,population_mean)"
   ]
  },
  {
   "cell_type": "code",
   "execution_count": 67,
   "id": "d1282d77",
   "metadata": {},
   "outputs": [],
   "source": [
    "def mean(data):\n",
    "    return data.sum()/len(data)\n",
    "\n",
    "def variance_n(data):\n",
    "    sum = 0\n",
    "    for i in range(0,len(data)):\n",
    "        sum = sum + ((data[i]-mean(data))**2)\n",
    "    return sum/len(data) \n",
    "\n",
    "def variance_n_1(data):\n",
    "    sum = 0\n",
    "    for i in range(0,len(data)):\n",
    "        sum = sum + ((data[i]-mean(data))**2)\n",
    "    return sum/(len(data)-1)"
   ]
  },
  {
   "cell_type": "code",
   "execution_count": 100,
   "id": "4625ec22",
   "metadata": {},
   "outputs": [
    {
     "name": "stdout",
     "output_type": "stream",
     "text": [
      "1237.6770666666666 1128.6282508771928\n",
      "-638.8429333333329 -846.655959649122\n",
      "-143.9954333333335 -325.76385438596526\n",
      "-1497.3954333333336 -1750.3954333333336\n",
      "584.3570666666665 440.92298771929836\n",
      "1403.257066666666 1302.9229877192977\n",
      "243.39456666666638 82.01509298245583\n",
      "1123.2645666666667 1008.194040350877\n",
      "1526.3770666666662 1432.5229877192978\n",
      "93.35706666666692 -75.91911754385956\n",
      "54.06456666666645 -117.27964385964924\n",
      "945.9145666666668 821.5098298245612\n",
      "-725.7954333333337 -938.1849070175444\n",
      "-689.2829333333334 -899.7506964912286\n",
      "-583.0829333333336 -787.9612228070177\n",
      "128.70456666666632 -38.71122280701775\n",
      "354.25706666666747 198.71246140350922\n",
      "569.8445666666662 425.64667192982415\n",
      "151.5570666666663 -14.65595964912336\n",
      "449.7770666666661 299.25982982456117\n"
     ]
    }
   ],
   "source": [
    "np.random.seed(42)\n",
    "\n",
    "for i in range(20):\n",
    "    sample = np.random.choice(population,20)\n",
    "    print((np.var(population)-variance_n(sample)),(np.var(population)-variance_n_1(sample)))\n",
    "    "
   ]
  },
  {
   "cell_type": "markdown",
   "id": "c32e17f0",
   "metadata": {},
   "source": [
    "### From the aforesaid snippet it can be seen that approximately 65% times it gives better estimate if we divide by n-1 instead of n"
   ]
  },
  {
   "cell_type": "code",
   "execution_count": null,
   "id": "bb94039b",
   "metadata": {},
   "outputs": [],
   "source": []
  }
 ],
 "metadata": {
  "kernelspec": {
   "display_name": "Python 3 (ipykernel)",
   "language": "python",
   "name": "python3"
  },
  "language_info": {
   "codemirror_mode": {
    "name": "ipython",
    "version": 3
   },
   "file_extension": ".py",
   "mimetype": "text/x-python",
   "name": "python",
   "nbconvert_exporter": "python",
   "pygments_lexer": "ipython3",
   "version": "3.9.12"
  }
 },
 "nbformat": 4,
 "nbformat_minor": 5
}
